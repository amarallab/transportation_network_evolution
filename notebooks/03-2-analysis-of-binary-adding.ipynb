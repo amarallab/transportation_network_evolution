{
 "cells": [
  {
   "cell_type": "code",
   "execution_count": 1,
   "metadata": {},
   "outputs": [
    {
     "data": {
      "text/html": [
       "<style>.container {width:80% !important; }</style>"
      ],
      "text/plain": [
       "<IPython.core.display.HTML object>"
      ]
     },
     "metadata": {},
     "output_type": "display_data"
    }
   ],
   "source": [
    "from IPython.core.display import display, HTML\n",
    "display(HTML(\"<style>.container {width:80% !important; }</style>\"))"
   ]
  },
  {
   "cell_type": "code",
   "execution_count": 2,
   "metadata": {},
   "outputs": [],
   "source": [
    "import warnings\n",
    "warnings.simplefilter(action='ignore')"
   ]
  },
  {
   "cell_type": "code",
   "execution_count": 3,
   "metadata": {},
   "outputs": [],
   "source": [
    "import seaborn as sns\n",
    "import matplotlib.mlab as ml\n",
    "import matplotlib as mpl\n",
    "import matplotlib.pyplot as plt\n",
    "from matplotlib import ticker\n",
    "import matplotlib.ticker as plticker\n",
    "\n",
    "def stdfigsize(scale=1, nx=1, ny=1, ratio=1.3):\n",
    "    \"\"\"\n",
    "    Returns a tuple to be used as figure size.\n",
    "    -------\n",
    "    returns (7*ratio*scale*nx, 7.*scale*ny)\n",
    "    By default: ratio=1.3\n",
    "    If ratio<0 them ratio = golden ratio\n",
    "    \"\"\"\n",
    "    if ratio < 0:\n",
    "        ratio = 1.61803398875\n",
    "    return((7*ratio*scale*nx, 7*scale*ny))\n",
    "\n",
    "def stdrcparams(usetex=False):\n",
    "    \"\"\"\n",
    "    Set several mpl.rcParams and sns.set_style for my taste.\n",
    "    ----\n",
    "    usetex = True\n",
    "    ----\n",
    "    \"\"\"\n",
    "    sns.set_style(\"white\")\n",
    "    sns.set_style({\"xtick.direction\": \"in\",\n",
    "                 \"ytick.direction\": \"in\"})\n",
    "    rcparams = {'text.usetex': usetex,\n",
    "              'font.family': 'sans-serif',\n",
    "              'font.sans-serif': ['Helvetica'],\n",
    "             # 'text.latex.unicode': True,\n",
    "              'text.latex.preamble': [r\"\\usepackage[T1]{fontenc}\",\n",
    "                                      r\"\\usepackage{lmodern}\",\n",
    "                                      r\"\\usepackage{amsmath}\",\n",
    "                                      r\"\\usepackage{mathptmx}\"\n",
    "                                      ],\n",
    "              'axes.labelsize': 30,\n",
    "              'axes.titlesize': 30,\n",
    "              'ytick.right': 'on',\n",
    "              'xtick.top': 'on',\n",
    "              'xtick.labelsize': '25',\n",
    "              'ytick.labelsize': '25',\n",
    "              'axes.linewidth': 1.8,\n",
    "              'xtick.major.width': 1.8,\n",
    "              'xtick.minor.width': 1.8,\n",
    "              'xtick.major.size': 14,\n",
    "              'xtick.minor.size': 7,\n",
    "              'xtick.major.pad': 10,\n",
    "              'xtick.minor.pad': 10,\n",
    "              'ytick.major.width': 1.8,\n",
    "              'ytick.minor.width': 1.8,\n",
    "              'ytick.major.size': 14,\n",
    "              'ytick.minor.size': 7,\n",
    "              'ytick.major.pad': 10,\n",
    "              'ytick.minor.pad': 10,\n",
    "              'axes.labelpad': 15,\n",
    "              'axes.titlepad': 15,\n",
    "              \"xtick.direction\": \"in\",\n",
    "              \"ytick.direction\": \"in\",\n",
    "              'legend.fontsize': 20}\n",
    "    mpl.rcParams.update(rcparams) \n",
    "\n",
    "mpl.rcParams['lines.linewidth'] = 5\n",
    "mpl.rcParams['lines.color'] = '#3690c0'\n",
    "\n",
    "stdrcparams(usetex=True)\n",
    "figsize=stdfigsize(ratio=-1)\n",
    "xs,ys=figsize\n",
    "\n",
    "def custom_frame(ax):\n",
    "    ax.spines['top'].set_visible(False)\n",
    "    ax.spines['right'].set_visible(False)\n",
    "    ax.get_xaxis().tick_bottom()\n",
    "    ax.get_yaxis().tick_left()\n",
    "    ax.tick_params(axis='x',length=10,direction='out')\n",
    "    ax.tick_params(axis='x',which='minor',direction='out')\n",
    "    ax.tick_params(axis='y',length=10,direction='out')\n",
    "    ax.tick_params(axis='y',which='minor',direction='out')"
   ]
  },
  {
   "cell_type": "code",
   "execution_count": 4,
   "metadata": {},
   "outputs": [],
   "source": [
    "import pandas as pd\n",
    "import numpy as np\n",
    "import matplotlib.pyplot as plt\n",
    "import seaborn as sns\n",
    "import networkx as nx\n",
    "\n",
    "import random\n",
    "\n",
    "from datetime import date"
   ]
  },
  {
   "cell_type": "code",
   "execution_count": 5,
   "metadata": {},
   "outputs": [],
   "source": [
    "from imblearn.under_sampling import RandomUnderSampler\n",
    "from xgboost import XGBClassifier\n",
    "from sklearn.metrics import confusion_matrix,balanced_accuracy_score"
   ]
  },
  {
   "cell_type": "markdown",
   "metadata": {},
   "source": [
    "## load data"
   ]
  },
  {
   "cell_type": "code",
   "execution_count": 6,
   "metadata": {},
   "outputs": [],
   "source": [
    "df_air = pd.read_pickle('../data/networks/US_air_1990_2018.pkl')\n",
    "nodes = set(df_air.source.unique())|set(df_air.target.unique())\n",
    "df_air = df_air[df_air.source != df_air.target]\n",
    "year = list(df_air.index.get_level_values(0).unique())\n",
    "month = list(df_air.index.get_level_values(1).unique())\n",
    "graphs_air = []\n",
    "date_air = []\n",
    "for y in year:\n",
    "    for m in month:\n",
    "#        if y != 2018 or m != 12:\n",
    "        df = df_air.loc[y,m]\n",
    "        date_air.append(date(y,m,1))\n",
    "        G = nx.from_pandas_edgelist(df_air.loc[y,m], edge_attr=True)\n",
    "        G.add_nodes_from(nodes)\n",
    "        graphs_air.append(G)\n",
    "        \n",
    "\n",
    "n = date_air.index(date(2004,1,1))\n",
    "graphs_air = graphs_air[n:]\n",
    "date_air =  date_air[n:]\n",
    "\n",
    "del df_air"
   ]
  },
  {
   "cell_type": "code",
   "execution_count": 7,
   "metadata": {},
   "outputs": [],
   "source": [
    "def match_datasets(data):\n",
    "    allcities=pd.read_csv(\"../data/buses_list_of_cities.csv\",index_col=0,names=[\"CityUF\"],encoding=\"utf-8\")\n",
    "    allcities.head()    \n",
    "    allcities[\"CityUF\"]=allcities[\"CityUF\"].str.upper()\n",
    "    allcities[\"CityUF\"]=allcities[\"CityUF\"].str.strip()\n",
    "    allcities[\"CityUF\"]=allcities[\"CityUF\"].str.replace(\" , \",\", \")\n",
    "    allcities[\"CityUF\"]=allcities[\"CityUF\"].str.normalize('NFKD').str.encode('ascii', errors='ignore').str.decode('utf-8')\n",
    "    setallcities=set(list(allcities.CityUF.astype(str)))    \n",
    "    data=data[data['ORIGEM'].isin(list(setallcities))]\n",
    "    data=data[data['DESTINO'].isin(list(setallcities))]    \n",
    "    return data\n",
    "\n",
    "def bus_network(year=2010,month=12):\n",
    "    data=pd.read_csv(\"../data/cleaned_buses_data/{}.csv\".format(year),index_col=None)\n",
    "    if month is not False:\n",
    "        data=data[data.MES==month]\n",
    "    data=data[data.NUMEROLUGAROFERTADOIDA>0]\n",
    "    data=match_datasets(data)\n",
    "    data=data[[\"ORIGEM\",\"DESTINO\"]]\n",
    "    data=data.groupby(data.columns.tolist()).size().reset_index().rename(columns={0:'weight'})\n",
    "    data=data.rename(columns={'ORIGEM':'source','DESTINO':'target','NUMEROLUGAROFERTADOIDA':'weight'})\n",
    "    return data\n",
    "\n",
    "df_bus = pd.read_pickle('../data/networks/bus_2005_2014.pkl')\n",
    "df_bus = df_bus[df_bus.source != df_bus.target]\n",
    "year = list(df_bus.index.get_level_values(0).unique())\n",
    "month = list(df_bus.index.get_level_values(1).unique())\n",
    "graphs_bus = []\n",
    "date_bus = []\n",
    "for y in year:\n",
    "    for m in month:\n",
    "#        if y != 2018 or m != 12:\n",
    "        df = bus_network(y,m)\n",
    "        date_bus.append(date(y,m,1))\n",
    "        G = nx.from_pandas_edgelist(df, edge_attr=True)\n",
    "        graphs_bus.append(G)\n",
    "del df_bus"
   ]
  },
  {
   "cell_type": "code",
   "execution_count": 8,
   "metadata": {},
   "outputs": [],
   "source": [
    "df_air = pd.read_pickle('../results/us_air_data_binary_adding.pkl')"
   ]
  },
  {
   "cell_type": "code",
   "execution_count": 9,
   "metadata": {},
   "outputs": [],
   "source": [
    "df_air = df_air[df_air.Year>=date(2004,1,1)]"
   ]
  },
  {
   "cell_type": "code",
   "execution_count": 10,
   "metadata": {},
   "outputs": [],
   "source": [
    "data = pd.read_pickle('../results/brazil_bus_data_binary_adding.pkl')\n",
    "data = data[data.Year>=date(2004,1,1)]\n",
    "rename_dict = {}\n",
    "for column in data.columns:\n",
    "    if '_index' in column:\n",
    "        column_v = column.replace('_index','',1)\n",
    "    else:\n",
    "        column_v =  column\n",
    "    rename_dict[column]=column_v.replace('_',' ',3).title()\n",
    "    \n",
    "rename_again = {'Common Neighbor' : 'CN', 'Salton':'SA' , 'Jaccard':'JA', 'Sorensen':'SO', 'Hub Promoted':'HPI',\n",
    "       'Hub Depressed':'HDI', 'Leicht Holme Newman':'LHNI', 'Preferential Attachment':'PA',\n",
    "       'Adamic Adar':'AA', 'Resource Allocation':'RA', 'Local Path':'LP'}\n",
    "    \n",
    "data = data.rename(columns=rename_dict).rename(columns={'Prederential Attachment':'Preferential Attachment'})\n",
    "\n",
    "columns=['Common Neighbor', 'Salton', 'Jaccard', 'Sorensen', 'Hub Promoted',\n",
    "       'Hub Depressed', 'Leicht Holme Newman', 'Preferential Attachment',\n",
    "       'Adamic Adar', 'Resource Allocation', 'Local Path',\n",
    "        'Year','Edge','Label']\n",
    "\n",
    "df_bus =  data[columns]"
   ]
  },
  {
   "cell_type": "markdown",
   "metadata": {},
   "source": [
    "## split edges into training and testing"
   ]
  },
  {
   "cell_type": "code",
   "execution_count": 11,
   "metadata": {},
   "outputs": [],
   "source": [
    "def get_edge_slice(data,f_train_e=0.7,seed=30):\n",
    "    df = data\n",
    "    edges = list(df.Edge.unique())\n",
    "    random.seed(seed)\n",
    "    edge_train = random.sample(edges,int(f_train_e*len(edges)))\n",
    "    edge_test = [e for e in edges if e not in edge_train]\n",
    "    df_se = df.loc[df['Edge'].isin(edge_train)].drop(columns = ['Edge'])\n",
    "    df_de = df.loc[df['Edge'].isin(edge_test)].drop(columns = ['Edge'])\n",
    "    return(df_se,df_de)"
   ]
  },
  {
   "cell_type": "code",
   "execution_count": 12,
   "metadata": {},
   "outputs": [
    {
     "ename": "KeyboardInterrupt",
     "evalue": "",
     "output_type": "error",
     "traceback": [
      "\u001b[0;31m---------------------------------------------------------------------------\u001b[0m",
      "\u001b[0;31mKeyboardInterrupt\u001b[0m                         Traceback (most recent call last)",
      "\u001b[0;32m<ipython-input-12-e0c65784ecf3>\u001b[0m in \u001b[0;36m<module>\u001b[0;34m\u001b[0m\n\u001b[0;32m----> 1\u001b[0;31m \u001b[0mair_se\u001b[0m\u001b[0;34m,\u001b[0m\u001b[0mair_de\u001b[0m \u001b[0;34m=\u001b[0m \u001b[0mget_edge_slice\u001b[0m\u001b[0;34m(\u001b[0m\u001b[0mdf_air\u001b[0m\u001b[0;34m)\u001b[0m\u001b[0;34m\u001b[0m\u001b[0;34m\u001b[0m\u001b[0m\n\u001b[0m\u001b[1;32m      2\u001b[0m \u001b[0mbus_se\u001b[0m\u001b[0;34m,\u001b[0m\u001b[0mbus_de\u001b[0m \u001b[0;34m=\u001b[0m \u001b[0mget_edge_slice\u001b[0m\u001b[0;34m(\u001b[0m\u001b[0mdf_bus\u001b[0m\u001b[0;34m)\u001b[0m\u001b[0;34m\u001b[0m\u001b[0;34m\u001b[0m\u001b[0m\n",
      "\u001b[0;32m<ipython-input-11-53b28d822dd0>\u001b[0m in \u001b[0;36mget_edge_slice\u001b[0;34m(data, f_train_e, seed)\u001b[0m\n\u001b[1;32m      4\u001b[0m     \u001b[0mrandom\u001b[0m\u001b[0;34m.\u001b[0m\u001b[0mseed\u001b[0m\u001b[0;34m(\u001b[0m\u001b[0mseed\u001b[0m\u001b[0;34m)\u001b[0m\u001b[0;34m\u001b[0m\u001b[0;34m\u001b[0m\u001b[0m\n\u001b[1;32m      5\u001b[0m     \u001b[0medge_train\u001b[0m \u001b[0;34m=\u001b[0m \u001b[0mrandom\u001b[0m\u001b[0;34m.\u001b[0m\u001b[0msample\u001b[0m\u001b[0;34m(\u001b[0m\u001b[0medges\u001b[0m\u001b[0;34m,\u001b[0m\u001b[0mint\u001b[0m\u001b[0;34m(\u001b[0m\u001b[0mf_train_e\u001b[0m\u001b[0;34m*\u001b[0m\u001b[0mlen\u001b[0m\u001b[0;34m(\u001b[0m\u001b[0medges\u001b[0m\u001b[0;34m)\u001b[0m\u001b[0;34m)\u001b[0m\u001b[0;34m)\u001b[0m\u001b[0;34m\u001b[0m\u001b[0;34m\u001b[0m\u001b[0m\n\u001b[0;32m----> 6\u001b[0;31m     \u001b[0medge_test\u001b[0m \u001b[0;34m=\u001b[0m \u001b[0;34m[\u001b[0m\u001b[0me\u001b[0m \u001b[0;32mfor\u001b[0m \u001b[0me\u001b[0m \u001b[0;32min\u001b[0m \u001b[0medges\u001b[0m \u001b[0;32mif\u001b[0m \u001b[0me\u001b[0m \u001b[0;32mnot\u001b[0m \u001b[0;32min\u001b[0m \u001b[0medge_train\u001b[0m\u001b[0;34m]\u001b[0m\u001b[0;34m\u001b[0m\u001b[0;34m\u001b[0m\u001b[0m\n\u001b[0m\u001b[1;32m      7\u001b[0m     \u001b[0mdf_se\u001b[0m \u001b[0;34m=\u001b[0m \u001b[0mdf\u001b[0m\u001b[0;34m.\u001b[0m\u001b[0mloc\u001b[0m\u001b[0;34m[\u001b[0m\u001b[0mdf\u001b[0m\u001b[0;34m[\u001b[0m\u001b[0;34m'Edge'\u001b[0m\u001b[0;34m]\u001b[0m\u001b[0;34m.\u001b[0m\u001b[0misin\u001b[0m\u001b[0;34m(\u001b[0m\u001b[0medge_train\u001b[0m\u001b[0;34m)\u001b[0m\u001b[0;34m]\u001b[0m\u001b[0;34m.\u001b[0m\u001b[0mdrop\u001b[0m\u001b[0;34m(\u001b[0m\u001b[0mcolumns\u001b[0m \u001b[0;34m=\u001b[0m \u001b[0;34m[\u001b[0m\u001b[0;34m'Edge'\u001b[0m\u001b[0;34m]\u001b[0m\u001b[0;34m)\u001b[0m\u001b[0;34m\u001b[0m\u001b[0;34m\u001b[0m\u001b[0m\n\u001b[1;32m      8\u001b[0m     \u001b[0mdf_de\u001b[0m \u001b[0;34m=\u001b[0m \u001b[0mdf\u001b[0m\u001b[0;34m.\u001b[0m\u001b[0mloc\u001b[0m\u001b[0;34m[\u001b[0m\u001b[0mdf\u001b[0m\u001b[0;34m[\u001b[0m\u001b[0;34m'Edge'\u001b[0m\u001b[0;34m]\u001b[0m\u001b[0;34m.\u001b[0m\u001b[0misin\u001b[0m\u001b[0;34m(\u001b[0m\u001b[0medge_test\u001b[0m\u001b[0;34m)\u001b[0m\u001b[0;34m]\u001b[0m\u001b[0;34m.\u001b[0m\u001b[0mdrop\u001b[0m\u001b[0;34m(\u001b[0m\u001b[0mcolumns\u001b[0m \u001b[0;34m=\u001b[0m \u001b[0;34m[\u001b[0m\u001b[0;34m'Edge'\u001b[0m\u001b[0;34m]\u001b[0m\u001b[0;34m)\u001b[0m\u001b[0;34m\u001b[0m\u001b[0;34m\u001b[0m\u001b[0m\n",
      "\u001b[0;32m<ipython-input-11-53b28d822dd0>\u001b[0m in \u001b[0;36m<listcomp>\u001b[0;34m(.0)\u001b[0m\n\u001b[1;32m      4\u001b[0m     \u001b[0mrandom\u001b[0m\u001b[0;34m.\u001b[0m\u001b[0mseed\u001b[0m\u001b[0;34m(\u001b[0m\u001b[0mseed\u001b[0m\u001b[0;34m)\u001b[0m\u001b[0;34m\u001b[0m\u001b[0;34m\u001b[0m\u001b[0m\n\u001b[1;32m      5\u001b[0m     \u001b[0medge_train\u001b[0m \u001b[0;34m=\u001b[0m \u001b[0mrandom\u001b[0m\u001b[0;34m.\u001b[0m\u001b[0msample\u001b[0m\u001b[0;34m(\u001b[0m\u001b[0medges\u001b[0m\u001b[0;34m,\u001b[0m\u001b[0mint\u001b[0m\u001b[0;34m(\u001b[0m\u001b[0mf_train_e\u001b[0m\u001b[0;34m*\u001b[0m\u001b[0mlen\u001b[0m\u001b[0;34m(\u001b[0m\u001b[0medges\u001b[0m\u001b[0;34m)\u001b[0m\u001b[0;34m)\u001b[0m\u001b[0;34m)\u001b[0m\u001b[0;34m\u001b[0m\u001b[0;34m\u001b[0m\u001b[0m\n\u001b[0;32m----> 6\u001b[0;31m     \u001b[0medge_test\u001b[0m \u001b[0;34m=\u001b[0m \u001b[0;34m[\u001b[0m\u001b[0me\u001b[0m \u001b[0;32mfor\u001b[0m \u001b[0me\u001b[0m \u001b[0;32min\u001b[0m \u001b[0medges\u001b[0m \u001b[0;32mif\u001b[0m \u001b[0me\u001b[0m \u001b[0;32mnot\u001b[0m \u001b[0;32min\u001b[0m \u001b[0medge_train\u001b[0m\u001b[0;34m]\u001b[0m\u001b[0;34m\u001b[0m\u001b[0;34m\u001b[0m\u001b[0m\n\u001b[0m\u001b[1;32m      7\u001b[0m     \u001b[0mdf_se\u001b[0m \u001b[0;34m=\u001b[0m \u001b[0mdf\u001b[0m\u001b[0;34m.\u001b[0m\u001b[0mloc\u001b[0m\u001b[0;34m[\u001b[0m\u001b[0mdf\u001b[0m\u001b[0;34m[\u001b[0m\u001b[0;34m'Edge'\u001b[0m\u001b[0;34m]\u001b[0m\u001b[0;34m.\u001b[0m\u001b[0misin\u001b[0m\u001b[0;34m(\u001b[0m\u001b[0medge_train\u001b[0m\u001b[0;34m)\u001b[0m\u001b[0;34m]\u001b[0m\u001b[0;34m.\u001b[0m\u001b[0mdrop\u001b[0m\u001b[0;34m(\u001b[0m\u001b[0mcolumns\u001b[0m \u001b[0;34m=\u001b[0m \u001b[0;34m[\u001b[0m\u001b[0;34m'Edge'\u001b[0m\u001b[0;34m]\u001b[0m\u001b[0;34m)\u001b[0m\u001b[0;34m\u001b[0m\u001b[0;34m\u001b[0m\u001b[0m\n\u001b[1;32m      8\u001b[0m     \u001b[0mdf_de\u001b[0m \u001b[0;34m=\u001b[0m \u001b[0mdf\u001b[0m\u001b[0;34m.\u001b[0m\u001b[0mloc\u001b[0m\u001b[0;34m[\u001b[0m\u001b[0mdf\u001b[0m\u001b[0;34m[\u001b[0m\u001b[0;34m'Edge'\u001b[0m\u001b[0;34m]\u001b[0m\u001b[0;34m.\u001b[0m\u001b[0misin\u001b[0m\u001b[0;34m(\u001b[0m\u001b[0medge_test\u001b[0m\u001b[0;34m)\u001b[0m\u001b[0;34m]\u001b[0m\u001b[0;34m.\u001b[0m\u001b[0mdrop\u001b[0m\u001b[0;34m(\u001b[0m\u001b[0mcolumns\u001b[0m \u001b[0;34m=\u001b[0m \u001b[0;34m[\u001b[0m\u001b[0;34m'Edge'\u001b[0m\u001b[0;34m]\u001b[0m\u001b[0;34m)\u001b[0m\u001b[0;34m\u001b[0m\u001b[0;34m\u001b[0m\u001b[0m\n",
      "\u001b[0;31mKeyboardInterrupt\u001b[0m: "
     ]
    }
   ],
   "source": [
    "air_se,air_de = get_edge_slice(df_air)\n",
    "bus_se,bus_de = get_edge_slice(df_bus)"
   ]
  },
  {
   "cell_type": "markdown",
   "metadata": {},
   "source": [
    "## adding test"
   ]
  },
  {
   "cell_type": "code",
   "execution_count": 13,
   "metadata": {},
   "outputs": [],
   "source": [
    "from sklearn.model_selection import train_test_split\n",
    "from sklearn.metrics import confusion_matrix,balanced_accuracy_score\n",
    "from xgboost import XGBClassifier\n",
    "import itertools\n",
    "import math"
   ]
  },
  {
   "cell_type": "code",
   "execution_count": 14,
   "metadata": {},
   "outputs": [],
   "source": [
    "def local_path(G,nodelist,epsilon = 0.01):\n",
    "    A = nx.adjacency_matrix(G,weight=None).todense()\n",
    "    return(A**2+epsilon*A**3)\n",
    "\n",
    "def my_devide(a,b):\n",
    "    if a!=0 and b!=0:\n",
    "        return a/b\n",
    "    else:\n",
    "        return 0\n",
    "    \n",
    "def get_vector(G,H,edges):\n",
    "    X,y = [],[]\n",
    "    Ki = G.degree()\n",
    "    nodelist = list(G.nodes())\n",
    "    LPI = local_path(G,nodelist)\n",
    "    for e in edges:\n",
    "        u,v = e\n",
    "        union_size = len(set(G[u])|set(G[v]))\n",
    "        x = []\n",
    "        uv_intersection = list(nx.common_neighbors(G,u,v))\n",
    "        x.append(len(uv_intersection))\n",
    "        x.append(my_devide(len(uv_intersection),np.sqrt(Ki[u]*Ki[v])))\n",
    "        x.append(my_devide(len(uv_intersection),union_size))\n",
    "        x.append(my_devide(2*len(uv_intersection),(Ki[u]+Ki[v])))\n",
    "        x.append(my_devide(len(uv_intersection),min(Ki[u],Ki[v])))\n",
    "        x.append(my_devide(len(uv_intersection),max(Ki[u],Ki[v])))\n",
    "        x.append(my_devide(len(uv_intersection),(Ki[u]*Ki[v])))\n",
    "        x.append(Ki[u]*Ki[v])\n",
    "        if len(uv_intersection) == 0:\n",
    "            x.append(0)\n",
    "            x.append(0)\n",
    "        else:    \n",
    "            x.append(sum([1/math.log(Ki[z]) for z in uv_intersection]))\n",
    "            x.append(sum(1/Ki[z] for z in uv_intersection))\n",
    "        x.append(LPI[nodelist.index(u),nodelist.index(v)])\n",
    "        y.append(int(H.has_edge(u,v)))\n",
    "        X.append(x)\n",
    "    return(X,y)"
   ]
  },
  {
   "cell_type": "code",
   "execution_count": 15,
   "metadata": {},
   "outputs": [],
   "source": [
    "def get_test(graphs,dates,year_test,N=10000):\n",
    "    i = dates.index(year_test)\n",
    "    G  = graphs[i]\n",
    "    H = graphs[i+1]\n",
    "    nodes = list(G.nodes())\n",
    "    edges = random.choices(list(itertools.combinations(nodes,2)),k=N)\n",
    "    edges = list(set(edges).difference(set(G.edges())))\n",
    "    X_test,y_test = get_vector(G,H,edges)  \n",
    "    return(X_test,y_test)"
   ]
  },
  {
   "cell_type": "code",
   "execution_count": 16,
   "metadata": {},
   "outputs": [],
   "source": [
    "def get_confusion_matrix(df,graphs,dates,year_train=date(2004,1,1),year_test = date(2004,2,1),N=5,N_smaple=10000):\n",
    "    df = df[df.Year == year_train]\n",
    "    df_se,df_de  = get_edge_slice(df)\n",
    "    df_se = df.drop(columns= ['Edge'])\n",
    "    X_train,y_train = df_se[df_se.Year == year_train].drop(columns=['Year','Label']).values,\\\n",
    "                    df_se[df_se.Year == year_train]['Label'].values\n",
    " \n",
    "    clf = XGBClassifier()\n",
    "    clf.fit(X_train,y_train)\n",
    "    \n",
    "    y_train_shuffled = np.copy(y_train)\n",
    "    np.random.shuffle(y_train_shuffled)\n",
    "    null = XGBClassifier()\n",
    "    null.fit(X_train,y_train_shuffled)\n",
    "    cms,cms_null = [],[]\n",
    "    for i in range(N):    \n",
    "        X_test,y_test = get_test(graphs,dates,year_test,N=N_smaple)\n",
    "        y_pred = clf.predict(X_test) \n",
    "        y_pred_null = null.predict(X_test)\n",
    "        cm = confusion_matrix(y_test,y_pred,labels = [1,0])\n",
    "        cm_null = confusion_matrix(y_test,y_pred_null,labels = [1,0])\n",
    "        if cm.sum(axis=1)[0] != 0:\n",
    "            cms.append(cm.astype('float') / cm.sum(axis = 1)[:,None])\n",
    "            cms_null.append(cm_null.astype('float') / cm_null.sum(axis = 1)[:,None])   \n",
    "    return(np.average(cms,axis=0),np.average(cms_null,axis=0))\n",
    "\n",
    "def pure_plot_confusion_matrix(cm, ax = None):  \n",
    "    classes = ['NtoP','NtoN']\n",
    "    #classes = [0,1]\n",
    "    sns.heatmap(cm, square = True, annot= True, cbar = False, cmap=plt.cm.Blues,ax = ax,annot_kws={\"fontsize\":25})\n",
    "    ax.set_xlim(0,2)\n",
    "    ax.tick_params( bottom=False, right=False,left=False, labeltop=False, labelbottom=True)   \n",
    "    ax.set(xticks = np.arange(cm.shape[1])+0.5,\n",
    "           yticks = np.arange(cm.shape[0])+0.25,\n",
    "           # ... and label them with the respective list entries\n",
    "           xticklabels=classes, yticklabels=classes,\n",
    "           ylabel = 'True label',\n",
    "           xlabel = 'Predicted label') "
   ]
  },
  {
   "cell_type": "code",
   "execution_count": 17,
   "metadata": {},
   "outputs": [],
   "source": [
    "cms_air,cms_null_air = get_confusion_matrix(df_air,\n",
    "                                            graphs_air,\n",
    "                                            date_air,\n",
    "                                            year_train=date(2004,1,1),\n",
    "                                            year_test = date(2004,1,1),\n",
    "                                            N=10,\n",
    "                                            N_smaple=500000)"
   ]
  },
  {
   "cell_type": "code",
   "execution_count": 18,
   "metadata": {},
   "outputs": [],
   "source": [
    "warnings.simplefilter(action='ignore')"
   ]
  },
  {
   "cell_type": "code",
   "execution_count": 19,
   "metadata": {},
   "outputs": [
    {
     "data": {
      "image/png": "[encoded data removed]",
      "text/plain": [
       "<Figure size 360x360 with 1 Axes>"
      ]
     },
     "metadata": {
      "needs_background": "light"
     },
     "output_type": "display_data"
    }
   ],
   "source": [
    "fig,ax = plt.subplots(figsize=(5,5))\n",
    "pure_plot_confusion_matrix(cms_air,ax=ax)\n",
    "plt.savefig('../figures/binary_adding_confusion_matrix_structural_air.pdf',transparent=True)\n",
    "plt.show()"
   ]
  },
  {
   "cell_type": "code",
   "execution_count": 20,
   "metadata": {},
   "outputs": [],
   "source": [
    "cms_bus,cms_null_bus = get_confusion_matrix(df_bus,\n",
    "                                            graphs_bus,\n",
    "                                            date_bus,\n",
    "                                            year_train=date(2005,1,1),\n",
    "                                            year_test = date(2005,1,1),\n",
    "                                            N=10,\n",
    "                                            N_smaple=1000000)"
   ]
  },
  {
   "cell_type": "code",
   "execution_count": 89,
   "metadata": {},
   "outputs": [
    {
     "data": {
      "text/plain": [
       "array([[1.        , 0.        ],\n",
       "       [0.70061875, 0.29938125]])"
      ]
     },
     "execution_count": 89,
     "metadata": {},
     "output_type": "execute_result"
    }
   ],
   "source": [
    "cms_bus"
   ]
  },
  {
   "cell_type": "code",
   "execution_count": 21,
   "metadata": {},
   "outputs": [
    {
     "data": {
      "image/png": "[encoded data removed]",
      "text/plain": [
       "<Figure size 360x360 with 1 Axes>"
      ]
     },
     "metadata": {
      "needs_background": "light"
     },
     "output_type": "display_data"
    }
   ],
   "source": [
    "fig,ax = plt.subplots(figsize=(5,5))\n",
    "pure_plot_confusion_matrix(cms_bus,ax=ax)\n",
    "plt.savefig('../figures/binary_adding_confusion_matrix_structural_bus.pdf',transparent=True)\n",
    "plt.show()"
   ]
  },
  {
   "cell_type": "markdown",
   "metadata": {},
   "source": [
    "## structural test"
   ]
  },
  {
   "cell_type": "code",
   "execution_count": 90,
   "metadata": {},
   "outputs": [],
   "source": [
    "def structural_test(df,graphs,dates,N=500):\n",
    "    year_list = list(df.Year.unique())\n",
    "    accuracies_of_all_network = []\n",
    "    accuracies_of_all_network_null = []      \n",
    "    for year in year_list:\n",
    "        try:\n",
    "            cms,cms_null = get_confusion_matrix(df,\n",
    "                                            graphs,\n",
    "                                            dates,\n",
    "                                            year_train=year,\n",
    "                                            year_test = year,\n",
    "                                            N=10,\n",
    "                                            N_smaple= 500000)\n",
    "            accuracies_of_all_network.append(cms)   \n",
    "            accuracies_of_all_network_null.append(cms_null) \n",
    "        except:\n",
    "            pass\n",
    "    return(year_list,accuracies_of_all_network,accuracies_of_all_network_null)"
   ]
  },
  {
   "cell_type": "code",
   "execution_count": null,
   "metadata": {},
   "outputs": [],
   "source": [
    "air_years,cms_structural_air,cms_structural_air_null = structural_test(df_air,graphs_air,date_air)"
   ]
  },
  {
   "cell_type": "code",
   "execution_count": null,
   "metadata": {},
   "outputs": [],
   "source": [
    "bus_years,cms_structural_bus,cms_structural_bus_null = structural_test(df_bus,graphs_bus,date_bus)"
   ]
  },
  {
   "cell_type": "code",
   "execution_count": 96,
   "metadata": {
    "ExecuteTime": {
     "end_time": "2020-02-03T22:11:34.815574Z",
     "start_time": "2020-02-03T22:09:56.523906Z"
    }
   },
   "outputs": [],
   "source": [
    "air_structural = [np.mean([a[0,0],a[1,1]]) for a in cms_structural_air]\n",
    "air_structural_null = [np.mean([a[0,0],a[1,1]]) for a in cms_structural_air_null]"
   ]
  },
  {
   "cell_type": "code",
   "execution_count": 101,
   "metadata": {
    "ExecuteTime": {
     "end_time": "2020-02-03T22:12:41.825754Z",
     "start_time": "2020-02-03T22:12:41.634222Z"
    }
   },
   "outputs": [
    {
     "data": {
      "image/png": "[encoded data removed]",
      "text/plain": [
       "<Figure size 360x360 with 1 Axes>"
      ]
     },
     "metadata": {
      "needs_background": "light"
     },
     "output_type": "display_data"
    }
   ],
   "source": [
    "df = pd.concat([pd.DataFrame(dict(Model='Structural',Accuracy=air_structural)),                               \n",
    "                pd.DataFrame(dict(Model='Null',Accuracy=air_structural_null))])\n",
    "fig,ax = plt.subplots(figsize=(5,5))\n",
    "ax = sns.boxplot(x=\"Model\", y=\"Accuracy\",palette='Paired', data=df,ax=ax,linewidth=2)\n",
    "plt.xticks(rotation=0, ha='center')\n",
    "custom_frame(ax)\n",
    "plt.ylabel('Balanced\\ Accuracy')\n",
    "plt.xlabel('')\n",
    "plt.tight_layout()\n",
    "ax.axhline(y=0.5, linestyle = '--',color ='grey')\n",
    "plt.yticks([0.2,0.3,0.4,0.5,0.6,0.7,0.8,0.9])\n",
    "plt.savefig('../figures/binary_adding_balanced_accuracy_structural_air.pdf',transparent=True)\n",
    "plt.show()"
   ]
  },
  {
   "cell_type": "code",
   "execution_count": 108,
   "metadata": {},
   "outputs": [],
   "source": [
    "bus_structural = [np.mean([a[0,0],a[1,1]]) for a in cms_structural_bus if a.shape==(2,2)]\n",
    "bus_structural_null = [np.mean([a[0,0],a[1,1]]) for a in cms_structural_bus_null if a.shape==(2,2)]"
   ]
  },
  {
   "cell_type": "code",
   "execution_count": 109,
   "metadata": {},
   "outputs": [
    {
     "data": {
      "image/png": "[encoded data removed]",
      "text/plain": [
       "<Figure size 360x360 with 1 Axes>"
      ]
     },
     "metadata": {
      "needs_background": "light"
     },
     "output_type": "display_data"
    }
   ],
   "source": [
    "df = pd.concat([pd.DataFrame(dict(Model='Structural',Accuracy=bus_structural)),                               \n",
    "                pd.DataFrame(dict(Model='Null',Accuracy=bus_structural_null))])\n",
    "fig,ax = plt.subplots(figsize=(5,5))\n",
    "ax = sns.boxplot(x=\"Model\", y=\"Accuracy\",palette='Paired', data=df,ax=ax,linewidth=2)\n",
    "plt.xticks(rotation=0, ha='center')\n",
    "custom_frame(ax)\n",
    "plt.ylabel('Balanced\\ Accuracy')\n",
    "plt.xlabel('')\n",
    "plt.tight_layout()\n",
    "ax.axhline(y=0.5, linestyle = '--',color ='grey')\n",
    "plt.yticks([0.2,0.3,0.4,0.5,0.6,0.7,0.8,0.9])\n",
    "plt.savefig('../figures/binary_adding_balanced_accuracy_structural_bus.pdf',transparent=True)\n",
    "plt.show()"
   ]
  },
  {
   "cell_type": "markdown",
   "metadata": {},
   "source": [
    "## general test"
   ]
  },
  {
   "cell_type": "code",
   "execution_count": null,
   "metadata": {},
   "outputs": [],
   "source": [
    "def get_confusion_matrix(df,graphs,dates,year_train=date(2004,1,1),year_test = date(2004,2,1),N=5,N_smaple=10000):\n",
    "    df = df[df.Year == year_train]\n",
    "    df_se,df_de  = get_edge_slice(df)\n",
    "    df_se = df.drop(columns= ['Edge'])\n",
    "    X_train,y_train = df_se[df_se.Year == year_train].drop(columns=['Year','Label']).values,\\\n",
    "                    df_se[df_se.Year == year_train]['Label'].values\n",
    " \n",
    "    clf = XGBClassifier()\n",
    "    clf.fit(X_train,y_train)\n",
    "    \n",
    "    y_train_shuffled = np.copy(y_train)\n",
    "    np.random.shuffle(y_train_shuffled)\n",
    "    null = XGBClassifier()\n",
    "    null.fit(X_train,y_train_shuffled)\n",
    "    cms,cms_null = [],[]\n",
    "    for i in range(N):    \n",
    "        X_test,y_test = get_test(graphs,dates,year_test,N=N_smaple)\n",
    "        y_pred = clf.predict(X_test) \n",
    "        y_pred_null = null.predict(X_test)\n",
    "        cm = confusion_matrix(y_test,y_pred,labels = [1,0])\n",
    "        cm_null = confusion_matrix(y_test,y_pred_null,labels = [1,0])\n",
    "        cms.append(cm.astype('float') / cm.sum(axis = 1)[:,None])\n",
    "        cms_null.append(cm_null.astype('float') / cm_null.sum(axis = 1)[:,None])   \n",
    "    return(np.average(cms,axis=0),np.average(cms_null,axis=0))\n",
    "\n",
    "\n",
    "def general_test(df,graphs,dates,N=500):\n",
    "    year_list = list(df.Year.unique())\n",
    "    accuracies_of_all_network = []\n",
    "    accuracies_of_all_network_null = []      \n",
    "    for year in year_list:\n",
    "        try:\n",
    "            year_test_list = year_list[year_list.index(year):]\n",
    "            for year_test in year_test_list:\n",
    "                cms,cms_null = get_confusion_matrix(df,\n",
    "                                                graphs,\n",
    "                                                dates,\n",
    "                                                year_train=year,\n",
    "                                                year_test = year_test,\n",
    "                                                N=2,\n",
    "                                                N_smaple= 500000)\n",
    "                accuracies_of_all_network.append(cms)   \n",
    "                accuracies_of_all_network_null.append(cms_null) \n",
    "        except:\n",
    "            pass\n",
    "    return(year_list,accuracies_of_all_network,accuracies_of_all_network_null)"
   ]
  },
  {
   "cell_type": "code",
   "execution_count": null,
   "metadata": {},
   "outputs": [],
   "source": [
    "air_years,cms_general_air,cms_general_air_null = general_test(df_air,graphs_air,date_air)"
   ]
  },
  {
   "cell_type": "code",
   "execution_count": null,
   "metadata": {},
   "outputs": [],
   "source": [
    "bus_years,cms_general_bus,cms_general_bus_null = general_test(df_bus,graphs_bus,date_bus)"
   ]
  },
  {
   "cell_type": "markdown",
   "metadata": {},
   "source": [
    "## save model"
   ]
  },
  {
   "cell_type": "code",
   "execution_count": 18,
   "metadata": {},
   "outputs": [],
   "source": [
    "import pickle"
   ]
  },
  {
   "cell_type": "code",
   "execution_count": 25,
   "metadata": {},
   "outputs": [
    {
     "data": {
      "text/plain": [
       "XGBClassifier(base_score=0.5, booster='gbtree', colsample_bylevel=1,\n",
       "              colsample_bynode=1, colsample_bytree=1, gamma=0,\n",
       "              learning_rate=0.1, max_delta_step=0, max_depth=3,\n",
       "              min_child_weight=1, missing=None, n_estimators=100, n_jobs=1,\n",
       "              nthread=None, objective='binary:logistic', random_state=0,\n",
       "              reg_alpha=0, reg_lambda=1, scale_pos_weight=1, seed=None,\n",
       "              silent=None, subsample=1, verbosity=1)"
      ]
     },
     "execution_count": 25,
     "metadata": {},
     "output_type": "execute_result"
    }
   ],
   "source": [
    "df = df_air\n",
    "df = df[df.Year == date(2004,1,1)]\n",
    "df_se,df_de  = get_edge_slice(df)\n",
    "df_se = df.drop(columns= ['Edge'])\n",
    "X_train,y_train = df_se[df_se.Year == date(2004,1,1)].drop(columns=['Year','Label']).values,\\\n",
    "                df_se[df_se.Year == date(2004,1,1)]['Label'].values\n",
    "\n",
    "clf = XGBClassifier()\n",
    "clf.fit(X_train,y_train)"
   ]
  },
  {
   "cell_type": "code",
   "execution_count": 26,
   "metadata": {},
   "outputs": [],
   "source": [
    "pickle.dump(clf, open(\"../results/binary_adding_model.pickle.dat\", \"wb\"))"
   ]
  },
  {
   "cell_type": "code",
   "execution_count": null,
   "metadata": {},
   "outputs": [],
   "source": []
  }
 ],
 "metadata": {
  "kernelspec": {
   "display_name": "Python 3",
   "language": "python",
   "name": "python3"
  },
  "language_info": {
   "codemirror_mode": {
    "name": "ipython",
    "version": 3
   },
   "file_extension": ".py",
   "mimetype": "text/x-python",
   "name": "python",
   "nbconvert_exporter": "python",
   "pygments_lexer": "ipython3",
   "version": "3.6.8"
  }
 },
 "nbformat": 4,
 "nbformat_minor": 4
}
