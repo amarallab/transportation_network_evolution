{
 "cells": [
  {
   "cell_type": "code",
   "execution_count": 2,
   "metadata": {},
   "outputs": [
    {
     "data": {
      "text/html": [
       "<style>.container {width:80% !important; }</style>"
      ],
      "text/plain": [
       "<IPython.core.display.HTML object>"
      ]
     },
     "metadata": {},
     "output_type": "display_data"
    }
   ],
   "source": [
    "from IPython.core.display import display, HTML\n",
    "display(HTML(\"<style>.container {width:80% !important; }</style>\"))"
   ]
  },
  {
   "cell_type": "code",
   "execution_count": 3,
   "metadata": {},
   "outputs": [],
   "source": [
    "import warnings\n",
    "warnings.simplefilter(action='ignore')"
   ]
  },
  {
   "cell_type": "code",
   "execution_count": 4,
   "metadata": {},
   "outputs": [],
   "source": [
    "import seaborn as sns\n",
    "import matplotlib.mlab as ml\n",
    "import matplotlib as mpl\n",
    "import matplotlib.pyplot as plt\n",
    "from matplotlib import ticker\n",
    "import matplotlib.ticker as plticker\n",
    "\n",
    "def stdfigsize(scale=1, nx=1, ny=1, ratio=1.3):\n",
    "    \"\"\"\n",
    "    Returns a tuple to be used as figure size.\n",
    "    -------\n",
    "    returns (7*ratio*scale*nx, 7.*scale*ny)\n",
    "    By default: ratio=1.3\n",
    "    If ratio<0 them ratio = golden ratio\n",
    "    \"\"\"\n",
    "    if ratio < 0:\n",
    "        ratio = 1.61803398875\n",
    "    return((7*ratio*scale*nx, 7*scale*ny))\n",
    "\n",
    "def stdrcparams(usetex=False):\n",
    "    \"\"\"\n",
    "    Set several mpl.rcParams and sns.set_style for my taste.\n",
    "    ----\n",
    "    usetex = True\n",
    "    ----\n",
    "    \"\"\"\n",
    "    sns.set_style(\"white\")\n",
    "    sns.set_style({\"xtick.direction\": \"in\",\n",
    "                 \"ytick.direction\": \"in\"})\n",
    "    rcparams = {'text.usetex': usetex,\n",
    "              'font.family': 'sans-serif',\n",
    "              'font.sans-serif': ['Helvetica'],\n",
    "             # 'text.latex.unicode': True,\n",
    "              'text.latex.preamble': [r\"\\usepackage[T1]{fontenc}\",\n",
    "                                      r\"\\usepackage{lmodern}\",\n",
    "                                      r\"\\usepackage{amsmath}\",\n",
    "                                      r\"\\usepackage{mathptmx}\"\n",
    "                                      ],\n",
    "              'axes.labelsize': 30,\n",
    "              'axes.titlesize': 30,\n",
    "              'ytick.right': 'on',\n",
    "              'xtick.top': 'on',\n",
    "              'xtick.labelsize': '25',\n",
    "              'ytick.labelsize': '25',\n",
    "              'axes.linewidth': 1.8,\n",
    "              'xtick.major.width': 1.8,\n",
    "              'xtick.minor.width': 1.8,\n",
    "              'xtick.major.size': 14,\n",
    "              'xtick.minor.size': 7,\n",
    "              'xtick.major.pad': 10,\n",
    "              'xtick.minor.pad': 10,\n",
    "              'ytick.major.width': 1.8,\n",
    "              'ytick.minor.width': 1.8,\n",
    "              'ytick.major.size': 14,\n",
    "              'ytick.minor.size': 7,\n",
    "              'ytick.major.pad': 10,\n",
    "              'ytick.minor.pad': 10,\n",
    "              'axes.labelpad': 15,\n",
    "              'axes.titlepad': 15,\n",
    "              \"xtick.direction\": \"in\",\n",
    "              \"ytick.direction\": \"in\",\n",
    "              'legend.fontsize': 20}\n",
    "    mpl.rcParams.update(rcparams) \n",
    "\n",
    "mpl.rcParams['lines.linewidth'] = 5\n",
    "mpl.rcParams['lines.color'] = '#3690c0'\n",
    "\n",
    "stdrcparams(usetex=True)\n",
    "figsize=stdfigsize(ratio=-1)\n",
    "xs,ys=figsize\n",
    "\n",
    "def custom_frame(ax):\n",
    "    ax.spines['top'].set_visible(False)\n",
    "    ax.spines['right'].set_visible(False)\n",
    "    ax.get_xaxis().tick_bottom()\n",
    "    ax.get_yaxis().tick_left()\n",
    "    ax.tick_params(axis='x',length=10,direction='out')\n",
    "    ax.tick_params(axis='x',which='minor',direction='out')\n",
    "    ax.tick_params(axis='y',length=10,direction='out')\n",
    "    ax.tick_params(axis='y',which='minor',direction='out')"
   ]
  },
  {
   "cell_type": "code",
   "execution_count": 5,
   "metadata": {},
   "outputs": [],
   "source": [
    "import pandas as pd\n",
    "import numpy as np\n",
    "import matplotlib.pyplot as plt\n",
    "import seaborn as sns\n",
    "\n",
    "import random\n",
    "\n",
    "from datetime import date"
   ]
  },
  {
   "cell_type": "code",
   "execution_count": 6,
   "metadata": {},
   "outputs": [],
   "source": [
    "from imblearn.under_sampling import RandomUnderSampler\n",
    "from xgboost import XGBClassifier\n",
    "from sklearn.metrics import confusion_matrix,balanced_accuracy_score"
   ]
  },
  {
   "cell_type": "markdown",
   "metadata": {},
   "source": [
    "## load data"
   ]
  },
  {
   "cell_type": "code",
   "execution_count": 9,
   "metadata": {},
   "outputs": [],
   "source": [
    "data = pd.read_pickle('../results/us_air_data_binary_removal.pkl').replace([np.inf, -np.inf], np.nan).dropna(how='all')\n",
    "# data['passenges_centrality'] = data['passenges_centrality'].astype(np.int64)\n",
    "data = data[data.year>=date(2004,1,1)]\n",
    "rename_dict = {}\n",
    "for column in data.columns:\n",
    "    if '_index' in column:\n",
    "        column_v = column.replace('_index','',1)\n",
    "    else:\n",
    "        column_v =  column\n",
    "    rename_dict[column]=column_v.replace('_',' ',3).title()\n",
    "    \n",
    "rename_again = {'Common Neighbor' : 'CN', 'Salton':'SA' , 'Jaccard':'JA', 'Sorensen':'SO', 'Hub Promoted':'HPI',\n",
    "       'Hub Depressed':'HDI', 'Leicht Holme Newman':'LHNI', 'Preferential Attachment':'PA',\n",
    "       'Adamic Adar':'AA', 'Resource Allocation':'RA', 'Local Path':'LP'}\n",
    "    \n",
    "data_air = data.rename(columns=rename_dict).rename(columns={'Prederential Attachment':'Preferential Attachment'})\n",
    "\n",
    "columns=['Common Neighbor', 'Salton', 'Jaccard', 'Sorensen', 'Hub Promoted',\n",
    "       'Hub Depressed', 'Leicht Holme Newman', 'Preferential Attachment',\n",
    "       'Adamic Adar', 'Resource Allocation', 'Local Path',\n",
    "        'Year','Edge','Time','Label']\n",
    "\n",
    "data_air =  data_air[columns].rename(columns=rename_again)\n",
    "data_air = data_air[['Year','Edge','Time','Label']]"
   ]
  },
  {
   "cell_type": "code",
   "execution_count": 10,
   "metadata": {},
   "outputs": [
    {
     "data": {
      "text/html": [
       "<div>\n",
       "<style scoped>\n",
       "    .dataframe tbody tr th:only-of-type {\n",
       "        vertical-align: middle;\n",
       "    }\n",
       "\n",
       "    .dataframe tbody tr th {\n",
       "        vertical-align: top;\n",
       "    }\n",
       "\n",
       "    .dataframe thead th {\n",
       "        text-align: right;\n",
       "    }\n",
       "</style>\n",
       "<table border=\"1\" class=\"dataframe\">\n",
       "  <thead>\n",
       "    <tr style=\"text-align: right;\">\n",
       "      <th></th>\n",
       "      <th>Year</th>\n",
       "      <th>Edge</th>\n",
       "      <th>Time</th>\n",
       "      <th>Label</th>\n",
       "    </tr>\n",
       "  </thead>\n",
       "  <tbody>\n",
       "    <tr>\n",
       "      <th>767643</th>\n",
       "      <td>2004-01-01</td>\n",
       "      <td>(aberdeen_sd, minneapolis_mn)</td>\n",
       "      <td>0</td>\n",
       "      <td>0</td>\n",
       "    </tr>\n",
       "    <tr>\n",
       "      <th>767644</th>\n",
       "      <td>2004-01-01</td>\n",
       "      <td>(aberdeen_sd, pierre_sd)</td>\n",
       "      <td>0</td>\n",
       "      <td>0</td>\n",
       "    </tr>\n",
       "    <tr>\n",
       "      <th>767645</th>\n",
       "      <td>2004-01-01</td>\n",
       "      <td>(aberdeen_sd, sioux_falls_sd)</td>\n",
       "      <td>0</td>\n",
       "      <td>0</td>\n",
       "    </tr>\n",
       "    <tr>\n",
       "      <th>767646</th>\n",
       "      <td>2004-01-01</td>\n",
       "      <td>(minneapolis_mn, albany_ny)</td>\n",
       "      <td>0</td>\n",
       "      <td>0</td>\n",
       "    </tr>\n",
       "    <tr>\n",
       "      <th>767647</th>\n",
       "      <td>2004-01-01</td>\n",
       "      <td>(minneapolis_mn, albuquerque_nm)</td>\n",
       "      <td>0</td>\n",
       "      <td>0</td>\n",
       "    </tr>\n",
       "  </tbody>\n",
       "</table>\n",
       "</div>"
      ],
      "text/plain": [
       "              Year                              Edge  Time  Label\n",
       "767643  2004-01-01     (aberdeen_sd, minneapolis_mn)     0      0\n",
       "767644  2004-01-01          (aberdeen_sd, pierre_sd)     0      0\n",
       "767645  2004-01-01     (aberdeen_sd, sioux_falls_sd)     0      0\n",
       "767646  2004-01-01       (minneapolis_mn, albany_ny)     0      0\n",
       "767647  2004-01-01  (minneapolis_mn, albuquerque_nm)     0      0"
      ]
     },
     "execution_count": 10,
     "metadata": {},
     "output_type": "execute_result"
    }
   ],
   "source": [
    "data_air.head()"
   ]
  },
  {
   "cell_type": "code",
   "execution_count": 11,
   "metadata": {},
   "outputs": [],
   "source": [
    "dist_df = pd.read_pickle('../data/us_air_distance.pkl')\n",
    "dict_dist = dist_df.set_index(['source_origin','target_origin']).to_dict()['distance']\n",
    "dict_dist.update(dist_df.set_index(['target_origin','source_origin']).to_dict()['distance'])\n",
    "pop_dict = pd.read_pickle('../data/us_air_population_all.pkl').fillna(0).to_dict()[0]\n",
    "def get_dist(edge):\n",
    "    return (dict_dist[edge])\n",
    "def get_pop(node):\n",
    "    return (pop_dict[node])\n",
    "def get_G(ni,nj,):\n",
    "    a,b=edge\n",
    "    return (get_pop(a)*get_pop(b)/get_dist(edge)**2)"
   ]
  },
  {
   "cell_type": "code",
   "execution_count": 12,
   "metadata": {},
   "outputs": [],
   "source": [
    "data_air['r'] = data_air.apply(lambda row: get_dist(row.Edge), axis=1)\n",
    "data_air['ni'] = data_air.apply(lambda row: get_pop(row.Edge[0]), axis=1)\n",
    "data_air['nj'] = data_air.apply(lambda row: get_pop(row.Edge[1]), axis=1)\n",
    "data_air['G'] = data_air.ni*data_air.nj/data_air.r**2"
   ]
  },
  {
   "cell_type": "code",
   "execution_count": 13,
   "metadata": {},
   "outputs": [
    {
     "data": {
      "text/html": [
       "<div>\n",
       "<style scoped>\n",
       "    .dataframe tbody tr th:only-of-type {\n",
       "        vertical-align: middle;\n",
       "    }\n",
       "\n",
       "    .dataframe tbody tr th {\n",
       "        vertical-align: top;\n",
       "    }\n",
       "\n",
       "    .dataframe thead th {\n",
       "        text-align: right;\n",
       "    }\n",
       "</style>\n",
       "<table border=\"1\" class=\"dataframe\">\n",
       "  <thead>\n",
       "    <tr style=\"text-align: right;\">\n",
       "      <th></th>\n",
       "      <th>Year</th>\n",
       "      <th>Edge</th>\n",
       "      <th>Time</th>\n",
       "      <th>Label</th>\n",
       "      <th>r</th>\n",
       "      <th>ni</th>\n",
       "      <th>nj</th>\n",
       "      <th>G</th>\n",
       "    </tr>\n",
       "  </thead>\n",
       "  <tbody>\n",
       "    <tr>\n",
       "      <th>767643</th>\n",
       "      <td>2004-01-01</td>\n",
       "      <td>(aberdeen_sd, minneapolis_mn)</td>\n",
       "      <td>0</td>\n",
       "      <td>0</td>\n",
       "      <td>257.0</td>\n",
       "      <td>26091.0</td>\n",
       "      <td>382578.0</td>\n",
       "      <td>151127.838393</td>\n",
       "    </tr>\n",
       "    <tr>\n",
       "      <th>767644</th>\n",
       "      <td>2004-01-01</td>\n",
       "      <td>(aberdeen_sd, pierre_sd)</td>\n",
       "      <td>0</td>\n",
       "      <td>0</td>\n",
       "      <td>117.0</td>\n",
       "      <td>26091.0</td>\n",
       "      <td>13646.0</td>\n",
       "      <td>26009.042735</td>\n",
       "    </tr>\n",
       "    <tr>\n",
       "      <th>767645</th>\n",
       "      <td>2004-01-01</td>\n",
       "      <td>(aberdeen_sd, sioux_falls_sd)</td>\n",
       "      <td>0</td>\n",
       "      <td>0</td>\n",
       "      <td>153.0</td>\n",
       "      <td>26091.0</td>\n",
       "      <td>153888.0</td>\n",
       "      <td>171519.151096</td>\n",
       "    </tr>\n",
       "    <tr>\n",
       "      <th>767646</th>\n",
       "      <td>2004-01-01</td>\n",
       "      <td>(minneapolis_mn, albany_ny)</td>\n",
       "      <td>0</td>\n",
       "      <td>0</td>\n",
       "      <td>979.0</td>\n",
       "      <td>382578.0</td>\n",
       "      <td>97856.0</td>\n",
       "      <td>39060.884048</td>\n",
       "    </tr>\n",
       "    <tr>\n",
       "      <th>767647</th>\n",
       "      <td>2004-01-01</td>\n",
       "      <td>(minneapolis_mn, albuquerque_nm)</td>\n",
       "      <td>0</td>\n",
       "      <td>0</td>\n",
       "      <td>981.0</td>\n",
       "      <td>382578.0</td>\n",
       "      <td>545852.0</td>\n",
       "      <td>216998.575853</td>\n",
       "    </tr>\n",
       "  </tbody>\n",
       "</table>\n",
       "</div>"
      ],
      "text/plain": [
       "              Year                              Edge  Time  Label      r  \\\n",
       "767643  2004-01-01     (aberdeen_sd, minneapolis_mn)     0      0  257.0   \n",
       "767644  2004-01-01          (aberdeen_sd, pierre_sd)     0      0  117.0   \n",
       "767645  2004-01-01     (aberdeen_sd, sioux_falls_sd)     0      0  153.0   \n",
       "767646  2004-01-01       (minneapolis_mn, albany_ny)     0      0  979.0   \n",
       "767647  2004-01-01  (minneapolis_mn, albuquerque_nm)     0      0  981.0   \n",
       "\n",
       "              ni        nj              G  \n",
       "767643   26091.0  382578.0  151127.838393  \n",
       "767644   26091.0   13646.0   26009.042735  \n",
       "767645   26091.0  153888.0  171519.151096  \n",
       "767646  382578.0   97856.0   39060.884048  \n",
       "767647  382578.0  545852.0  216998.575853  "
      ]
     },
     "execution_count": 13,
     "metadata": {},
     "output_type": "execute_result"
    }
   ],
   "source": [
    "data_air.dropna(subset=['G'])\n",
    "data_air.head()"
   ]
  },
  {
   "cell_type": "code",
   "execution_count": 14,
   "metadata": {},
   "outputs": [],
   "source": [
    "def get_result(year):\n",
    "    df = data_air[data_air.Year==year].sort_values(by='G')\n",
    "    n_remove = len(df[df.Label==1])\n",
    "    df['Label_predicted'] = [1]*n_remove + [0]*(len(df)-n_remove)\n",
    "\n",
    "    y_test = df.Label\n",
    "    y_predict =df.Label_predicted\n",
    "    y_null = [i for i in y_test]\n",
    "    np.random.shuffle(y_null)\n",
    "\n",
    "    cm = confusion_matrix(y_test,y_predict,labels = [0,1])\n",
    "    cm = cm.astype('float') / cm.sum(axis = 1)[:,None]\n",
    "    accuracy = (cm[0,0]+cm[1,1])/2\n",
    "    \n",
    "    cm_null = confusion_matrix(y_test,y_null,labels = [0,1])\n",
    "    cm_null = cm_null.astype('float') / cm_null.sum(axis = 1)[:,None]\n",
    "    accuracy_null = (cm_null[0,0]+cm_null[1,1])/2\n",
    "    return(cm,accuracy,cm_null,accuracy_null)"
   ]
  },
  {
   "cell_type": "code",
   "execution_count": 15,
   "metadata": {},
   "outputs": [],
   "source": [
    "def pure_plot_confusion_matrix(cm, ax = None):\n",
    "    classes = ['Retained','Removed']\n",
    "    #classes = [0,1]\n",
    "    sns.heatmap(cm, square = True, annot= True, cbar = False, cmap=plt.cm.Blues,ax = ax,annot_kws={\"fontsize\":25})\n",
    "    ax.set_ylim(0,2)\n",
    "    ax.tick_params( bottom=False, right=False,left=False, labeltop=False, labelbottom=True)\n",
    "    ax.invert_yaxis()\n",
    "    ax.set(xticks = np.arange(cm.shape[1])+0.5,\n",
    "           yticks = np.arange(cm.shape[0])+0.25,\n",
    "           # ... and label them with the respective list entries\n",
    "           xticklabels=classes, yticklabels=classes,\n",
    "           ylabel = 'True label',\n",
    "           xlabel = 'Predicted label')"
   ]
  },
  {
   "cell_type": "code",
   "execution_count": 16,
   "metadata": {},
   "outputs": [
    {
     "data": {
      "image/png": "[encoded data removed]",
      "text/plain": [
       "<Figure size 360x360 with 1 Axes>"
      ]
     },
     "metadata": {},
     "output_type": "display_data"
    }
   ],
   "source": [
    "year = date(2004,1,1)\n",
    "cm,accuracy,cm_null,accuracy_null = get_result(year)\n",
    "ig,ax =plt.subplots(figsize=(5,5))\n",
    "plt.title(\"Gravitational Model\")\n",
    "pure_plot_confusion_matrix(cm,ax=ax)\n",
    "plt.savefig('../Figs/Fig.SI_gravitation_cm.pdf',transparent=True)\n",
    "\n",
    "plt.show()"
   ]
  },
  {
   "cell_type": "code",
   "execution_count": 17,
   "metadata": {},
   "outputs": [],
   "source": [
    "def get_all_results(data):\n",
    "    accuracies,accuracies_null=[],[]\n",
    "    for year in data.Year.unique():\n",
    "        cm,ac,cm_null,ac_null = get_result(year)\n",
    "        accuracies.append(ac)\n",
    "        accuracies_null.append(ac_null)\n",
    "    return(accuracies,accuracies_null)\n",
    "accuracies,accuracies_null = get_all_results(data_air)"
   ]
  },
  {
   "cell_type": "markdown",
   "metadata": {},
   "source": [
    "## split edges into training and testing"
   ]
  },
  {
   "cell_type": "code",
   "execution_count": 20,
   "metadata": {},
   "outputs": [],
   "source": [
    "def get_edge_slice(data,f_train_e=0.7,seed=30):\n",
    "    df = data\n",
    "    edges = list(df.Edge.unique())\n",
    "    random.seed(seed)\n",
    "    edge_train = random.sample(edges,int(f_train_e*len(edges)))\n",
    "    edge_test = [e for e in edges if e not in edge_train]\n",
    "    df_se = df.loc[df['Edge'].isin(edge_train)].drop(columns = ['Edge','Time'])\n",
    "    df_de = df.loc[df['Edge'].isin(edge_test)].drop(columns = ['Edge','Time'])\n",
    "    return(df_se,df_de)\n",
    "\n",
    "def get_time_slice(data,time_start,time_end,droptime=True):\n",
    "    if droptime:\n",
    "        return(data[data.Year >= time_start][data.Year <= time_end].drop(columns = ['Year']))\n",
    "    else:\n",
    "        return(data[data.Year >= time_start][data.Year <= time_end])\n",
    "    \n",
    "def df_to_XY(df):\n",
    "    if 'Year' in df.columns: \n",
    "        df = df.drop(columns = ['Year'])\n",
    "        if \"Edge\" in df.columns:\n",
    "            df = df.drop(columns = ['Edge'])\n",
    "    X,y = df.loc[:, df.columns != 'Label'].to_numpy(),\\\n",
    "    df.loc[:, df.columns == 'Label'].to_numpy()\n",
    "    return(X,y)"
   ]
  },
  {
   "cell_type": "code",
   "execution_count": 18,
   "metadata": {},
   "outputs": [],
   "source": [
    "data = pd.read_pickle('../results/us_air_data_binary_removal.pkl').replace([np.inf, -np.inf], np.nan).dropna(how='all')\n",
    "# data['passenges_centrality'] = data['passenges_centrality'].astype(np.int64)\n",
    "data = data[data.year>=date(2004,1,1)]\n",
    "rename_dict = {}\n",
    "for column in data.columns:\n",
    "    if '_index' in column:\n",
    "        column_v = column.replace('_index','',1)\n",
    "    else:\n",
    "        column_v =  column\n",
    "    rename_dict[column]=column_v.replace('_',' ',3).title()\n",
    "    \n",
    "rename_again = {'Common Neighbor' : 'CN', 'Salton':'SA' , 'Jaccard':'JA', 'Sorensen':'SO', 'Hub Promoted':'HPI',\n",
    "       'Hub Depressed':'HDI', 'Leicht Holme Newman':'LHNI', 'Preferential Attachment':'PA',\n",
    "       'Adamic Adar':'AA', 'Resource Allocation':'RA', 'Local Path':'LP'}\n",
    "    \n",
    "data_ml = data.rename(columns=rename_dict).rename(columns={'Prederential Attachment':'Preferential Attachment'})\n",
    "\n",
    "columns=['Common Neighbor', 'Salton', 'Jaccard', 'Sorensen', 'Hub Promoted',\n",
    "       'Hub Depressed', 'Leicht Holme Newman', 'Preferential Attachment',\n",
    "       'Adamic Adar', 'Resource Allocation', 'Local Path',\n",
    "        'Year','Edge','Time','Label']\n",
    "\n",
    "data_ml =  data_ml[columns].rename(columns=rename_again)"
   ]
  },
  {
   "cell_type": "code",
   "execution_count": 21,
   "metadata": {},
   "outputs": [],
   "source": [
    "air_se,air_de = get_edge_slice(data_ml)\n",
    "# air_train_start_time = date(2004,1,1)\n",
    "# air_train_end_time = date(2011,1,1)\n",
    "# air_train = get_time_slice(air_se,air_train_start_time,air_train_end_time,droptime=False)\n",
    "# air_test = get_time_slice(air_de,air_train_start_time,air_train_end_time,droptime=False)"
   ]
  },
  {
   "cell_type": "code",
   "execution_count": 22,
   "metadata": {},
   "outputs": [],
   "source": [
    "def temporal_general_test(df_train,df_test,year_train=date(2004,1,1)):\n",
    "    year_list = list(df_test.Year.unique())\n",
    "    X_train,y_train = df_to_XY(df_train[df_train.Year==year_train])   \n",
    "    ros = RandomUnderSampler()\n",
    "    X_resampled, y_resampled = ros.fit_resample(X_train,y_train)\n",
    "    y_train_shuffled = np.copy(y_train)\n",
    "    np.random.shuffle(y_train_shuffled)\n",
    "    ros = RandomUnderSampler()\n",
    "    Xnull_resampled, ynull_resampled = ros.fit_resample(X_train,y_train_shuffled)\n",
    "    model = XGBClassifier()\n",
    "    model.fit(X_resampled,y_resampled)\n",
    "    null = XGBClassifier()\n",
    "    null.fit(Xnull_resampled,ynull_resampled)\n",
    "    accuracy,accuracy_null=[],[]\n",
    "    i = year_list.index(year_train)\n",
    "    for year_test in year_list[i:]:\n",
    "        X_test,y_test = df_to_XY(df_test[df_test.Year==year_test])\n",
    "        y_pred = model.predict(X_test)\n",
    "        y_pred_null = null.predict(X_test)            \n",
    "        accuracy.append(balanced_accuracy_score(y_test,y_pred))\n",
    "        accuracy_null.append(balanced_accuracy_score(y_test,y_pred_null))\n",
    "    return(accuracy,accuracy_null)"
   ]
  },
  {
   "cell_type": "code",
   "execution_count": 23,
   "metadata": {},
   "outputs": [],
   "source": [
    "warnings.simplefilter(action='ignore')"
   ]
  },
  {
   "cell_type": "code",
   "execution_count": 27,
   "metadata": {},
   "outputs": [],
   "source": [
    "air_temporal = temporal_general_test(air_se,air_de)"
   ]
  },
  {
   "cell_type": "code",
   "execution_count": 28,
   "metadata": {},
   "outputs": [
    {
     "data": {
      "image/png": "[encoded data removed]",
      "text/plain": [
       "<Figure size 432x360 with 1 Axes>"
      ]
     },
     "metadata": {},
     "output_type": "display_data"
    }
   ],
   "source": [
    "df = pd.concat([pd.DataFrame(dict(Model='XGB \\n Classsifier',Accuracy=air_temporal[0])),\n",
    "                pd.DataFrame(dict(Model='Gravitational \\n Model',Accuracy=accuracies)),                               \n",
    "                pd.DataFrame(dict(Model='Null \\n Model',Accuracy=accuracies_null))])\n",
    "fig,ax = plt.subplots(figsize=(6,5))\n",
    "ax = sns.boxplot(x=\"Model\", y=\"Accuracy\",palette='Paired', data=df,ax=ax,linewidth=2)\n",
    "plt.xticks(rotation=0, ha='center')\n",
    "custom_frame(ax)\n",
    "plt.ylabel('Balanced\\ Accuracy')\n",
    "plt.xlabel('')\n",
    "plt.tight_layout()\n",
    "ax.axhline(y=0.5, linestyle = '--',color ='grey')\n",
    "plt.ylim(0.4,0.9)\n",
    "plt.savefig('../Figs/Fig.SI_gravitation_all.pdf',transparent=True)\n",
    "plt.show()"
   ]
  },
  {
   "cell_type": "code",
   "execution_count": 22,
   "metadata": {},
   "outputs": [],
   "source": [
    "air_general = temporal_general_test(air_se,air_de)"
   ]
  }
 ],
 "metadata": {
  "kernelspec": {
   "display_name": "Python 3",
   "language": "python",
   "name": "python3"
  },
  "language_info": {
   "codemirror_mode": {
    "name": "ipython",
    "version": 3
   },
   "file_extension": ".py",
   "mimetype": "text/x-python",
   "name": "python",
   "nbconvert_exporter": "python",
   "pygments_lexer": "ipython3",
   "version": "3.6.8"
  }
 },
 "nbformat": 4,
 "nbformat_minor": 4
}
