{
 "cells": [
  {
   "cell_type": "code",
   "execution_count": 2,
   "metadata": {},
   "outputs": [
    {
     "data": {
      "text/html": [
       "<style>.container {width:80% !important; }</style>"
      ],
      "text/plain": [
       "<IPython.core.display.HTML object>"
      ]
     },
     "metadata": {},
     "output_type": "display_data"
    }
   ],
   "source": [
    "from IPython.core.display import display, HTML\n",
    "display(HTML(\"<style>.container {width:80% !important; }</style>\"))"
   ]
  },
  {
   "cell_type": "code",
   "execution_count": 3,
   "metadata": {},
   "outputs": [],
   "source": [
    "# load libraries and set plot parameters\n",
    "import math\n",
    "import itertools\n",
    "import numpy as np\n",
    "import networkx as nx\n",
    "import pandas as pd\n",
    "import sys\n",
    "import random\n",
    "from datetime import date\n",
    "from itertools import groupby"
   ]
  },
  {
   "cell_type": "markdown",
   "metadata": {},
   "source": [
    "## Extract features for binary removal"
   ]
  },
  {
   "cell_type": "code",
   "execution_count": 4,
   "metadata": {},
   "outputs": [],
   "source": [
    "def local_path(G,nodelist,epsilon = 0.01):\n",
    "    A = nx.adjacency_matrix(G,weight=None).todense()\n",
    "    return(A**2+epsilon*A**3)"
   ]
  },
  {
   "cell_type": "code",
   "execution_count": 1,
   "metadata": {},
   "outputs": [],
   "source": [
    "def features_extraction_binary_removal(graphs,date):\n",
    "    # local similarity indices\n",
    "    common_neighbor, salton_index, jaccard_index, sorensen_index, hub_promoted_index,hub_depressed_index, \\\n",
    "    leicht_holme_newman_index, prederential_attachment_index, adamic_adar_index, resource_allocation_index \\\n",
    "    = [],[],[],[],[],[],[],[],[],[]\n",
    "    # global features\n",
    "    edge_betweeness_centrality,local_path_index = [],[]\n",
    "    \n",
    "    #mix features\n",
    "    number_of_flights,number_of_passenges,distance,flights_centrality,passenges_centrality,distance_centrality = [],[],[],[],[],[]\n",
    "    core_max,core_min =[],[]\n",
    " \n",
    "    # label 0 for failure and 1 for remained\n",
    "    time,year,label,edge = [],[],[],[]\n",
    "    \n",
    "    for i in range(len(graphs)-1):\n",
    "        G = graphs[i].copy()\n",
    "        H = graphs[i+1].copy()\n",
    "        G.add_nodes_from([n for n in H if n not in G])\n",
    "        H.add_nodes_from([n for n in G if n not in H])\n",
    "        removed_edges = list(set(G.edges()).difference(set(H.edges())))\n",
    "        \n",
    "        Ki = G.degree()\n",
    "\n",
    "        EBC = nx.edge_betweenness_centrality(G)    \n",
    "        nodelist = list(G.nodes())\n",
    "        LPI = local_path(G,nodelist)\n",
    "        CN = nx.core_number(G)\n",
    "        for e in list(G.edges()):            \n",
    "            u,v = e                           \n",
    "            uv_intersection = list(nx.common_neighbors(G,u,v))\n",
    "            union_size = len(set(G[u])|set(G[v]))\n",
    "            common_neighbor.append(len(uv_intersection))\n",
    "            salton_index.append(len(uv_intersection)/np.sqrt(Ki[u]*Ki[v]))\n",
    "            jaccard_index.append(len(uv_intersection)/union_size)\n",
    "            sorensen_index.append(2*len(uv_intersection)/(Ki[u]+Ki[v]))\n",
    "            hub_promoted_index.append(len(uv_intersection)/min(Ki[u],Ki[v]))\n",
    "            hub_depressed_index.append(len(uv_intersection)/max(Ki[u],Ki[v]))\n",
    "            leicht_holme_newman_index.append(len(uv_intersection)/(Ki[u]*Ki[v]))\n",
    "            prederential_attachment_index.append(Ki[u]*Ki[v])\n",
    "            local_path_index.append(LPI[nodelist.index(u),nodelist.index(v)])\n",
    "            \n",
    "            edge_betweeness_centrality.append(EBC[e])\n",
    "            core_max.append(max(CN[u],CN[v]))\n",
    "            core_min.append(min(CN[u],CN[v]))          \n",
    "            if len(uv_intersection) == 0:\n",
    "                adamic_adar_index.append(0)\n",
    "                resource_allocation_index.append(0)\n",
    "            else:    \n",
    "                adamic_adar_index.append(sum([1/math.log(Ki[z]) for z in uv_intersection]))\n",
    "                resource_allocation_index.append(sum(1/Ki[z] for z in uv_intersection))\n",
    "            year.append(date[i])\n",
    "            edge.append(e)\n",
    "            \n",
    "            list1 = [~g.has_edge(*e) for g in graphs[i+1:]]\n",
    "            count_dups = [sum(1 for _ in group) for _, group in groupby(list1)]   \n",
    "            if e in removed_edges: \n",
    "                label.append(1)\n",
    "                time.append(count_dups[0])\n",
    "            else:\n",
    "                label.append(0)\n",
    "                time.append(0)\n",
    "       \n",
    "        sys.stdout.write('\\r {} of {} is done'.format(i, len(graphs)))\n",
    "        sys.stdout.flush() \n",
    "        \n",
    "        \n",
    "    data = pd.DataFrame({'common_neighbor':common_neighbor,\n",
    "                  'salton_index':salton_index,\n",
    "                  'jaccard_index':jaccard_index,\n",
    "                  'sorensen_index':sorensen_index,\n",
    "                  'hub_promoted_index':hub_promoted_index,\n",
    "                  'hub_depressed_index':hub_depressed_index,\n",
    "                  'leicht_holme_newman_index':leicht_holme_newman_index,\n",
    "                  'prederential_attachment_index':prederential_attachment_index,\n",
    "                   'adamic_adar_index':adamic_adar_index,\n",
    "                  'resource_allocation_index':resource_allocation_index,\n",
    "                    'local_path_index':local_path_index,\n",
    "                   'edge_betweeness_centrality':edge_betweeness_centrality,\n",
    "                         'core_max':core_max,\n",
    "                         'core_min': core_min,\n",
    "                    'time':time,\n",
    "                   'year':year,\n",
    "                   'label': label,\n",
    "                    'edge':edge})\n",
    "    \n",
    "    return(data)"
   ]
  },
  {
   "cell_type": "code",
   "execution_count": 5,
   "metadata": {},
   "outputs": [],
   "source": [
    "df_air = pd.read_pickle('../data/networks/US_air_1990_2018.pkl')\n",
    "df_air = df_air[df_air.source != df_air.target]\n",
    "year = list(df_air.index.get_level_values(0).unique())\n",
    "month = list(df_air.index.get_level_values(1).unique())\n",
    "graphs_air = []\n",
    "date_air = []\n",
    "for y in year:\n",
    "    for m in month:\n",
    "#        if y != 2018 or m != 12:\n",
    "        df = df_air.loc[y,m]\n",
    "        date_air.append(date(y,m,1))\n",
    "        G = nx.from_pandas_edgelist(df_air.loc[y,m], edge_attr=True)\n",
    "        graphs_air.append(G)\n",
    "graphs_air=graphs_air"
   ]
  },
  {
   "cell_type": "code",
   "execution_count": 6,
   "metadata": {},
   "outputs": [
    {
     "name": "stdout",
     "output_type": "stream",
     "text": [
      " 346 of 348 is done"
     ]
    }
   ],
   "source": [
    "features_air_removal = features_extraction_binary_removal(graphs_air,date_air)"
   ]
  },
  {
   "cell_type": "code",
   "execution_count": 7,
   "metadata": {},
   "outputs": [],
   "source": [
    "features_air_removal.to_pickle('../results/us_air_data_binary_removal.pkl')"
   ]
  },
  {
   "cell_type": "code",
   "execution_count": 8,
   "metadata": {},
   "outputs": [],
   "source": [
    "def match_datasets(data):\n",
    "    allcities=pd.read_csv(\"../data/buses_list_of_cities.csv\",index_col=0,names=[\"CityUF\"],encoding=\"utf-8\")\n",
    "    allcities.head()    \n",
    "    allcities[\"CityUF\"]=allcities[\"CityUF\"].str.upper()\n",
    "    allcities[\"CityUF\"]=allcities[\"CityUF\"].str.strip()\n",
    "    allcities[\"CityUF\"]=allcities[\"CityUF\"].str.replace(\" , \",\", \")\n",
    "    allcities[\"CityUF\"]=allcities[\"CityUF\"].str.normalize('NFKD').str.encode('ascii', errors='ignore').str.decode('utf-8')\n",
    "    setallcities=set(list(allcities.CityUF.astype(str)))    \n",
    "    data=data[data['ORIGEM'].isin(list(setallcities))]\n",
    "    data=data[data['DESTINO'].isin(list(setallcities))]    \n",
    "    return data\n",
    "\n",
    "def bus_network(year=2010,month=12):\n",
    "    data=pd.read_csv(\"../data/cleaned_buses_data/{}.csv\".format(year),index_col=None)\n",
    "    if month is not False:\n",
    "        data=data[data.MES==month]\n",
    "    data=data[data.NUMEROLUGAROFERTADOIDA>0]\n",
    "    data=match_datasets(data)\n",
    "    data=data[[\"ORIGEM\",\"DESTINO\"]]\n",
    "    data=data.groupby(data.columns.tolist()).size().reset_index().rename(columns={0:'weight'})\n",
    "    data=data.rename(columns={'ORIGEM':'source','DESTINO':'target','NUMEROLUGAROFERTADOIDA':'weight'})\n",
    "    return data\n",
    "\n",
    "df_bus = pd.read_pickle('../data/networks/bus_2005_2014.pkl')\n",
    "df_bus = df_bus[df_bus.source != df_bus.target]\n",
    "year = list(df_bus.index.get_level_values(0).unique())\n",
    "month = list(df_bus.index.get_level_values(1).unique())\n",
    "graphs_bus = []\n",
    "date_bus = []\n",
    "for y in year:\n",
    "    for m in month:\n",
    "#        if y != 2018 or m != 12:\n",
    "        df = bus_network(y,m)\n",
    "        date_bus.append(date(y,m,1))\n",
    "        G = nx.from_pandas_edgelist(df, edge_attr=True)\n",
    "        graphs_bus.append(G)\n",
    "del df_bus"
   ]
  },
  {
   "cell_type": "code",
   "execution_count": 9,
   "metadata": {},
   "outputs": [
    {
     "name": "stdout",
     "output_type": "stream",
     "text": [
      " 118 of 120 is done"
     ]
    }
   ],
   "source": [
    "features_bus_removal = features_extraction_binary_removal(graphs_bus,date_bus)"
   ]
  },
  {
   "cell_type": "code",
   "execution_count": 10,
   "metadata": {},
   "outputs": [],
   "source": [
    "features_bus_removal.to_pickle('../results/brazil_bus_data_binary_removal.pkl')"
   ]
  },
  {
   "cell_type": "code",
   "execution_count": 11,
   "metadata": {},
   "outputs": [],
   "source": [
    "del features_bus_removal"
   ]
  },
  {
   "cell_type": "markdown",
   "metadata": {},
   "source": [
    "## Extract features for adding"
   ]
  },
  {
   "cell_type": "code",
   "execution_count": 4,
   "metadata": {},
   "outputs": [],
   "source": [
    "def features_extraction_binary_adding(graphs,dates):\n",
    "    X = []\n",
    "    for i in range(len(graphs)-1):\n",
    "        G,H = graphs[i],graphs[i+1]\n",
    "        G.add_nodes_from([n for n in H if n not in G])\n",
    "        H.add_nodes_from([n for n in G if n not in H])\n",
    "        year = dates[i]\n",
    "        Ki = G.degree()\n",
    "        nodelist = list(G.nodes())\n",
    "        LPI = local_path(G,nodelist)\n",
    "        add_edges = list(nx.difference(H,G).edges())\n",
    "        N = len(add_edges)\n",
    "        edges = random.choices(list(itertools.combinations(nodes,2)),k=N)  \n",
    "        for e in add_edges + edges:\n",
    "            u,v = e\n",
    "            union_size = len(set(G[u])|set(G[v]))\n",
    "            x = []\n",
    "            uv_intersection = list(nx.common_neighbors(G,u,v))\n",
    "            x.append(len(uv_intersection))\n",
    "            x.append(my_devide(len(uv_intersection),np.sqrt(Ki[u]*Ki[v])))\n",
    "            x.append(my_devide(len(uv_intersection),union_size))\n",
    "            x.append(my_devide(2*len(uv_intersection),(Ki[u]+Ki[v])))\n",
    "            x.append(my_devide(len(uv_intersection),min(Ki[u],Ki[v])))\n",
    "            x.append(my_devide(len(uv_intersection),max(Ki[u],Ki[v])))\n",
    "            x.append(my_devide(len(uv_intersection),(Ki[u]*Ki[v])))\n",
    "            x.append(Ki[u]*Ki[v])\n",
    "            if len(uv_intersection) == 0:\n",
    "                x.append(0)\n",
    "                x.append(0)\n",
    "            else:    \n",
    "                x.append(sum([1/math.log(Ki[z]) for z in uv_intersection]))\n",
    "                x.append(sum(1/Ki[z] for z in uv_intersection))\n",
    "            x.append(LPI[nodelist.index(u),nodelist.index(v)])\n",
    "            x.append(int(H.has_edge(u,v)))\n",
    "            x.append(year)\n",
    "            x.append(e)\n",
    "            X.append(x)\n",
    "        sys.stdout.write('\\r {} of {} is done'.format(i, len(graphs)))\n",
    "        sys.stdout.flush()\n",
    "    df = pd.DataFrame(X,columns=['Common Neighbor', 'Salton', 'Jaccard', 'Sorensen', 'Hub Promoted',\n",
    "       'Hub Depressed', 'Leicht Holme Newman', 'Preferential Attachment',\n",
    "       'Adamic Adar', 'Resource Allocation', 'Local Path','Label','Year','Edge'])  \n",
    "    return(df)"
   ]
  },
  {
   "cell_type": "code",
   "execution_count": 7,
   "metadata": {},
   "outputs": [
    {
     "ename": "NameError",
     "evalue": "name 'itertools' is not defined",
     "output_type": "error",
     "traceback": [
      "\u001b[0;31m---------------------------------------------------------------------------\u001b[0m",
      "\u001b[0;31mNameError\u001b[0m                                 Traceback (most recent call last)",
      "\u001b[0;32m<ipython-input-7-eeabd86648c4>\u001b[0m in \u001b[0;36m<module>\u001b[0;34m\u001b[0m\n\u001b[0;32m----> 1\u001b[0;31m \u001b[0mfeatures_air_adding\u001b[0m \u001b[0;34m=\u001b[0m \u001b[0mfeatures_extraction_binary_adding\u001b[0m\u001b[0;34m(\u001b[0m\u001b[0mgraphs_air\u001b[0m\u001b[0;34m,\u001b[0m\u001b[0mdate_air\u001b[0m\u001b[0;34m)\u001b[0m\u001b[0;34m\u001b[0m\u001b[0;34m\u001b[0m\u001b[0m\n\u001b[0m",
      "\u001b[0;32m<ipython-input-4-5df9c6e69987>\u001b[0m in \u001b[0;36mfeatures_extraction_binary_adding\u001b[0;34m(graphs, dates)\u001b[0m\n\u001b[1;32m     11\u001b[0m         \u001b[0madd_edges\u001b[0m \u001b[0;34m=\u001b[0m \u001b[0mlist\u001b[0m\u001b[0;34m(\u001b[0m\u001b[0mnx\u001b[0m\u001b[0;34m.\u001b[0m\u001b[0mdifference\u001b[0m\u001b[0;34m(\u001b[0m\u001b[0mH\u001b[0m\u001b[0;34m,\u001b[0m\u001b[0mG\u001b[0m\u001b[0;34m)\u001b[0m\u001b[0;34m.\u001b[0m\u001b[0medges\u001b[0m\u001b[0;34m(\u001b[0m\u001b[0;34m)\u001b[0m\u001b[0;34m)\u001b[0m\u001b[0;34m\u001b[0m\u001b[0;34m\u001b[0m\u001b[0m\n\u001b[1;32m     12\u001b[0m         \u001b[0mN\u001b[0m \u001b[0;34m=\u001b[0m \u001b[0mlen\u001b[0m\u001b[0;34m(\u001b[0m\u001b[0madd_edges\u001b[0m\u001b[0;34m)\u001b[0m\u001b[0;34m\u001b[0m\u001b[0;34m\u001b[0m\u001b[0m\n\u001b[0;32m---> 13\u001b[0;31m         \u001b[0medges\u001b[0m \u001b[0;34m=\u001b[0m \u001b[0mrandom\u001b[0m\u001b[0;34m.\u001b[0m\u001b[0mchoices\u001b[0m\u001b[0;34m(\u001b[0m\u001b[0mlist\u001b[0m\u001b[0;34m(\u001b[0m\u001b[0mitertools\u001b[0m\u001b[0;34m.\u001b[0m\u001b[0mcombinations\u001b[0m\u001b[0;34m(\u001b[0m\u001b[0mnodes\u001b[0m\u001b[0;34m,\u001b[0m\u001b[0;36m2\u001b[0m\u001b[0;34m)\u001b[0m\u001b[0;34m)\u001b[0m\u001b[0;34m,\u001b[0m\u001b[0mk\u001b[0m\u001b[0;34m=\u001b[0m\u001b[0mN\u001b[0m\u001b[0;34m)\u001b[0m\u001b[0;34m\u001b[0m\u001b[0;34m\u001b[0m\u001b[0m\n\u001b[0m\u001b[1;32m     14\u001b[0m         \u001b[0;32mfor\u001b[0m \u001b[0me\u001b[0m \u001b[0;32min\u001b[0m \u001b[0madd_edges\u001b[0m \u001b[0;34m+\u001b[0m \u001b[0medges\u001b[0m\u001b[0;34m:\u001b[0m\u001b[0;34m\u001b[0m\u001b[0;34m\u001b[0m\u001b[0m\n\u001b[1;32m     15\u001b[0m             \u001b[0mu\u001b[0m\u001b[0;34m,\u001b[0m\u001b[0mv\u001b[0m \u001b[0;34m=\u001b[0m \u001b[0me\u001b[0m\u001b[0;34m\u001b[0m\u001b[0;34m\u001b[0m\u001b[0m\n",
      "\u001b[0;31mNameError\u001b[0m: name 'itertools' is not defined"
     ]
    }
   ],
   "source": [
    "features_air_adding = features_extraction_binary_adding(graphs_air,date_air)"
   ]
  },
  {
   "cell_type": "code",
   "execution_count": null,
   "metadata": {},
   "outputs": [],
   "source": [
    "features_air_adding =.to_pickle('../results/us_air_data_binary_adding.pkl')"
   ]
  },
  {
   "cell_type": "code",
   "execution_count": null,
   "metadata": {},
   "outputs": [],
   "source": [
    "features_bus_adding = features_extraction_weight_change(graphs_bus,date_bus)"
   ]
  },
  {
   "cell_type": "code",
   "execution_count": null,
   "metadata": {},
   "outputs": [],
   "source": [
    "features_bus_adding.to_pickle('../results/brazil_bus_data_binary_adding.pkl')"
   ]
  },
  {
   "cell_type": "markdown",
   "metadata": {},
   "source": [
    "## Extract features for weight change"
   ]
  },
  {
   "cell_type": "code",
   "execution_count": 18,
   "metadata": {
    "ExecuteTime": {
     "end_time": "2020-02-03T21:38:07.266761Z",
     "start_time": "2020-02-03T21:38:07.263785Z"
    }
   },
   "outputs": [],
   "source": [
    "def local_path_weight(G,nodelist,epsilon = 0.01):\n",
    "    A = nx.adjacency_matrix(G,weight='weight').todense()\n",
    "    return(A**2+epsilon*A**3)"
   ]
  },
  {
   "cell_type": "code",
   "execution_count": 19,
   "metadata": {
    "ExecuteTime": {
     "end_time": "2020-02-03T21:38:07.792717Z",
     "start_time": "2020-02-03T21:38:07.776838Z"
    }
   },
   "outputs": [],
   "source": [
    "def features_extraction_weight_change(graphs,date):\n",
    "    # local similarity indices\n",
    "    common_neighbor, salton_index, jaccard_index, sorensen_index, hub_promoted_index,hub_depressed_index, \\\n",
    "    leicht_holme_newman_index, prederential_attachment_index, adamic_adar_index, resource_allocation_index \\\n",
    "    = [],[],[],[],[],[],[],[],[],[]\n",
    "    # global features\n",
    "    edge_betweeness_centrality,local_path_index = [],[]\n",
    "\n",
    "    # label changing in weight\n",
    "    time,year,label,edge = [],[],[],[]\n",
    "    \n",
    "    for i in range(len(graphs)-1):\n",
    "        G = graphs[i]\n",
    "        H = graphs[i+1]\n",
    "        G.add_nodes_from([n for n in H if n not in G])\n",
    "        H.add_nodes_from([n for n in G if n not in H])\n",
    "        removed_edges = list(nx.difference(G,H).edges())\n",
    "        added_edges = list(nx.difference(H,G).edges()) \n",
    "        Ki = G.degree()\n",
    "        EBC = nx.edge_betweenness_centrality(G)    \n",
    "        nodelist = list(G.nodes())\n",
    "        LPI = local_path_weight(G,nodelist)\n",
    "        for e in list(G.edges()):            \n",
    "            u,v = e                           \n",
    "            uv_intersection = list(nx.common_neighbors(G,u,v))\n",
    "            union_size = len(set(G[u])|set(G[v]))\n",
    "            common_neighbor.append(len(uv_intersection))\n",
    "            salton_index.append(len(uv_intersection)/np.sqrt(Ki[u]*Ki[v]))\n",
    "            jaccard_index.append(len(uv_intersection)/union_size)\n",
    "            sorensen_index.append(2*len(uv_intersection)/(Ki[u]+Ki[v]))\n",
    "            hub_promoted_index.append(len(uv_intersection)/min(Ki[u],Ki[v]))\n",
    "            hub_depressed_index.append(len(uv_intersection)/max(Ki[u],Ki[v]))\n",
    "            leicht_holme_newman_index.append(len(uv_intersection)/(Ki[u]*Ki[v]))\n",
    "            prederential_attachment_index.append(Ki[u]*Ki[v])\n",
    "            local_path_index.append(LPI[nodelist.index(u),nodelist.index(v)])            \n",
    "            edge_betweeness_centrality.append(EBC[e])\n",
    "            \n",
    "            if len(uv_intersection) == 0:\n",
    "                adamic_adar_index.append(0)\n",
    "                resource_allocation_index.append(0)\n",
    "            else:    \n",
    "                adamic_adar_index.append(sum([1/math.log(Ki[z]) for z in uv_intersection]))\n",
    "                resource_allocation_index.append(sum(1/Ki[z] for z in uv_intersection))\n",
    "            year.append(date[i])\n",
    "            edge.append(e)\n",
    "            \n",
    "            list1 = [~g.has_edge(*e) for g in graphs[i+1:]]\n",
    "            count_dups = [sum(1 for _ in group) for _, group in groupby(list1)]   \n",
    "            if e in removed_edges: \n",
    "                label.append(G[u][v]['weight']-0)\n",
    "                time.append(count_dups[0])\n",
    "            elif e in added_edges:\n",
    "                label.append(0-H[u][v]['weight'])\n",
    "                time.append(count_dups[0])\n",
    "            else:\n",
    "                label.append(G[u][v]['weight']-H[u][v]['weight'])\n",
    "                time.append(0)\n",
    "       \n",
    "        sys.stdout.write('\\r {} of {} is done'.format(i, len(graphs)))\n",
    "        sys.stdout.flush() \n",
    "        \n",
    "        \n",
    "    data = pd.DataFrame({'common_neighbor':common_neighbor,\n",
    "                  'salton_index':salton_index,\n",
    "                  'jaccard_index':jaccard_index,\n",
    "                  'sorensen_index':sorensen_index,\n",
    "                  'hub_promoted_index':hub_promoted_index,\n",
    "                  'hub_depressed_index':hub_depressed_index,\n",
    "                  'leicht_holme_newman_index':leicht_holme_newman_index,\n",
    "                  'prederential_attachment_index':prederential_attachment_index,\n",
    "                   'adamic_adar_index':adamic_adar_index,\n",
    "                  'resource_allocation_index':resource_allocation_index,\n",
    "                    'local_path_index':local_path_index,\n",
    "                   'edge_betweeness_centrality':edge_betweeness_centrality,\n",
    "                    'time':time,\n",
    "                   'year':year,\n",
    "                   'label': label,\n",
    "                    'edge':edge})\n",
    "    \n",
    "    return(data)"
   ]
  },
  {
   "cell_type": "code",
   "execution_count": 20,
   "metadata": {},
   "outputs": [
    {
     "name": "stdout",
     "output_type": "stream",
     "text": [
      " 346 of 348 is done"
     ]
    }
   ],
   "source": [
    "features_air_weight = features_extraction_weight_change(graphs_air,date_air)"
   ]
  },
  {
   "cell_type": "code",
   "execution_count": null,
   "metadata": {},
   "outputs": [],
   "source": [
    "features_air_weight.to_pickle('../results/us_air_data_weight_change.pkl')"
   ]
  },
  {
   "cell_type": "code",
   "execution_count": null,
   "metadata": {},
   "outputs": [],
   "source": []
  },
  {
   "cell_type": "code",
   "execution_count": null,
   "metadata": {},
   "outputs": [],
   "source": [
    "features_bus_weight = features_extraction_weight_change(graphs_bus,date_bus)"
   ]
  },
  {
   "cell_type": "code",
   "execution_count": null,
   "metadata": {},
   "outputs": [],
   "source": [
    "features_bus_weight.to_pickle('../results/brazil_bus_data_weight_change.pkl')"
   ]
  }
 ],
 "metadata": {
  "kernelspec": {
   "display_name": "Python 3",
   "language": "python",
   "name": "python3"
  },
  "language_info": {
   "codemirror_mode": {
    "name": "ipython",
    "version": 3
   },
   "file_extension": ".py",
   "mimetype": "text/x-python",
   "name": "python",
   "nbconvert_exporter": "python",
   "pygments_lexer": "ipython3",
   "version": "3.6.8"
  }
 },
 "nbformat": 4,
 "nbformat_minor": 4
}
